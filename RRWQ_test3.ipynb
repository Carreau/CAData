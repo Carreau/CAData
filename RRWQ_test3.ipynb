{
 "cells": [
  {
   "cell_type": "markdown",
   "metadata": {},
   "source": [
    "# USGS Data Analysis Pre-and-Post Fire after the 2017 Wine Country Fires"
   ]
  },
  {
   "cell_type": "code",
   "execution_count": 2,
   "metadata": {
    "collapsed": false
   },
   "outputs": [],
   "source": [
    "library(dataRetrieval)\n",
    "library(EGRET)\n",
    "library(zoo)\n",
    "library(leaflet)\n",
    "library(dplyr)\n"
   ]
  },
  {
   "cell_type": "markdown",
   "metadata": {},
   "source": [
    "As a data scientist, today you are going to be investigating the impact our the recent North Bay wildfires on the health of the Russian River. The Russian River is a critical source of water for hundreds of plants, fish and animals. The river also provides a critical water supply for agriculture. Local populations use the River and watershed areas produced from it for fishing, recreation and over 600,000 residents use the filtered drinking water from the river every day. As scientists interested in the health of our local communities and environment, it is important we understand how climate conditions and natural disasters impact our resources. \n",
    "\n",
    "First, look at how the fire impacted the region using Drone Imagery. Note how the river flows through the areas around Santa Rosa, Guerneville, Healdsburg, and Ukiah, California, just north of San Francisco.\n",
    "\n",
    "Drone Imagery: https://www.sonomasheriff.org/tubbscomplexlnu-fire-imagery"
   ]
  },
  {
   "cell_type": "markdown",
   "metadata": {},
   "source": [
    "## Functions to Retrieve Daily Data"
   ]
  },
  {
   "cell_type": "code",
   "execution_count": 3,
   "metadata": {
    "collapsed": true
   },
   "outputs": [],
   "source": [
    "\n",
    "###############=======Functions to retrieve the daily data. Must be run as a chunk============##########\n",
    "\n",
    "#Next, we need to run some functions.\n",
    "#What is a function? Why do we use them in our code?\n",
    "\n",
    "# Highlight all of the code for the entire function and press run. This will allow us to use the function later \n",
    "# Put your cursor at the beginning of each function 'getFlowDaily' and 'getWQDaily'\n",
    "# Functions take information, and give you an output\n",
    "\n",
    "\n",
    "getFlowDaily<-function (siteNumber, parameterCd = \"00060\", startDate = \"\", endDate = \"\", interactive = TRUE, convert = TRUE,statCd) {\n",
    "  #statCd <- ifelse(\"00060\" == parameterCd, \"00003\", \"00001\")\n",
    "  url <- dataRetrieval::constructNWISURL(siteNumber, parameterCd, startDate, endDate, \"dv\", statCd, format = \"tsv\")\n",
    "  data <- dataRetrieval::importRDB1(url, asDateTime = FALSE)\n",
    "  if (nrow(data) > 0) {\n",
    "    names(data) <- c(\"agency\", \"site\", \"dateTime\", \"value\", \"code\")\n",
    "    data$dateTime <- as.Date(data$dateTime)\n",
    "  }\n",
    "  qConvert <- ifelse(\"00060\" == parameterCd, 35.314667, 1)\n",
    "  qConvert <- ifelse(convert, qConvert, 1)\n",
    "  indx<-which(is.na(data$value))\n",
    "  data$value[indx]<-(data$value[indx-2]+data$value[indx-3])/2\n",
    "  localDaily <- populateDaily(data, qConvert, interactive = interactive)\n",
    "  return(localDaily)\n",
    "}\n",
    "\n",
    "\n",
    "getWQDaily<-function (siteNumber, parameterCd = \"00060\", startDate = \"\", endDate = \"\", interactive = TRUE, convert = TRUE,statCd) {\n",
    "  statCd <- ifelse(\"00060\" == parameterCd, \"00003\", \"00001\")\n",
    "  url <- dataRetrieval::constructNWISURL(siteNumber, parameterCd, startDate, endDate, \"dv\", statCd = statCd, format = \"tsv\")\n",
    "  data <- dataRetrieval::importRDB1(url, asDateTime = FALSE)\n",
    "  indx<-nrow(data )\n",
    "  if(indx < 2) {\n",
    "    return(NA)\n",
    "  } else{names(data) <- c(\"agency\", \"site\", \"dateTime\", \"value\", \"code\")\n",
    "  data$dateTime <- as.Date(data$dateTime)\n",
    "  }\n",
    "  \n",
    "  if(\"63680\" == parameterCd){\n",
    "    data[is.na(data[,4]),4]<-as.numeric(data[is.na(data[,4]),6])\n",
    "  }\n",
    "  \n",
    "  data[,4]<-as.numeric(data[,4])\n",
    "  \n",
    "  \n",
    "  qConvert <- ifelse(\"00060\" == parameterCd, 35.314667, 1)\n",
    "  qConvert <- ifelse(convert, qConvert, 1)\n",
    "  data<-transform(data, value = na.locf(value)) #means last observation carried forward when NA found\n",
    "  indx<-which(data$value<0.01)\n",
    "  \n",
    "  if(length(indx)>1) {\n",
    "    data$value[indx]<-NA\n",
    "    data<-transform(data, value = na.locf(value)) #some Q is <0 so label as NA then used last observation\n",
    "  }else{data<-data}\n",
    "  \n",
    "  localDaily <- populateDaily(data, qConvert, interactive = FALSE)\n",
    "  localDaily$Day<-as.numeric(format.Date(localDaily$Date,format=\"%j\"))\n",
    "  return(localDaily)\n",
    "}\n",
    "\n",
    "\n",
    "\n",
    "##################=======End of Functions to retrieve the daily data============##########"
   ]
  },
  {
   "cell_type": "markdown",
   "metadata": {},
   "source": [
    "## Gather water quality data:"
   ]
  },
  {
   "cell_type": "markdown",
   "metadata": {},
   "source": [
    "As Scientists, you have to decide where you put various sensors to collect your data. Look at the sites where we have sensors to collect data about the Russian River water quality. \n",
    "\n",
    "Go to https://maps.waterdata.usgs.gov/ \n",
    "\n",
    "Even though Guerneville is not directly inside a fire-perimeter, it is still a fire-impacted site because the watershed drains water from all of the fire-zones through streams and tributaries that eventually merge into the Russian River. Since Guerneville receives so much water that has traveled through these fire-impacted areas, the water qualtiy will reflect the history of its travel path.\n",
    "\n",
    "Look at the river sites around Santa Rosa, Guerneville, Healdsburg, and Ukiah, California, just north of San Francisco\n",
    "\n",
    "Click on a few of the sites around RUSSIAN R NR GUERNEVILLE CA  \n",
    "\n",
    "As a Scientist, you have to decide where to collect your data, and also what data to access to answer certain questions. Today we are going to be looking at data from Guerneville. Based on the map, what can you determine about this area and how this part of the river may or may not have been impacted by the fire?\n",
    "\n",
    "Each sensor is collecting all kinds of data. Look at this website to see the different types of data we could collect.\n",
    "\n",
    "Here is the list of all United States Geological Survey (USGS) optional parameters: https://help.waterdata.usgs.gov/codes-and-parameters/parameters\n",
    "\n",
    "Click on the HTML for \"Physical parameters\" and find\tpH, water, unfiltered, field, standard units.\n",
    "\n",
    "Task: Note the five-digit code for pH. We will need this when we go to fetch our data.\n",
    "\n"
   ]
  },
  {
   "cell_type": "code",
   "execution_count": 5,
   "metadata": {
    "collapsed": true
   },
   "outputs": [],
   "source": [
    "############################### Station 1: Gather water quality data:==============###########\n",
    "\n",
    "#Now we can fetch the specific data for pre and post-fire from Guerneville.\n",
    "\n",
    "# Specify the site #1: Fill in the ? with the site number for Guerneville\n",
    "siteID <- \"11467000\" #Guerneville, CA\n",
    "\n",
    "startDate <- \"\" #Gets earliest date 2009-06-01\n",
    "endDate <- \"2018-07-11\" #Gets data up until Jan 24 2018\n",
    "\n",
    "#### Specify the parameter code  for the water quality and fetch pH data: \n",
    "\n",
    "parameter_cd<-\"00400\" #5 digit USGS code for pH. Place number within quotes, no spaces\n",
    "\n",
    "#Fetch daily water quality data: pH \n",
    "DailypH_1 <- getWQDaily(siteID,parameter_cd,startDate,endDate)\n",
    "names(DailypH_1)<-c(\"Date\",\"pH\",\"Julian\",\"Month\",\"Day\",\"DecYear\",\"MonthSeq\",\"waterYear\",\"Qualifier\",\"i\",\"Log\",\"Q7\",\"Q30\")\n",
    "\n",
    "#What do all of these components of the code mean?\n",
    "#Name definitions\n",
    "# Date-Actual date\n",
    "# pH- values for the the variable pH which is acidity\n",
    "# Julian-day of the year\n",
    "# Month-Month labeled as a number Jan=1, Feb=2\n",
    "# Day-Day of the month\n",
    "# DecYear-Date converted to a decimal\n",
    "# MonthSeq-Number of months after 1850\n",
    "# waterYear- hydrological years begin in September. (Sept 2015-August 2016 is the 2016 water year)\n",
    "# Qualifier-quality codes\n",
    "# i-measuremen number\n",
    "# log-log of the data values\n",
    "# Q7-7 day running average\n",
    "# Q30-30 day running average\n"
   ]
  },
  {
   "cell_type": "markdown",
   "metadata": {},
   "source": [
    "## Plot the pH data by month"
   ]
  },
  {
   "cell_type": "code",
   "execution_count": 6,
   "metadata": {
    "collapsed": false
   },
   "outputs": [
    {
     "data": {
      "image/png": "[encoded data removed]",
      "text/plain": [
       "plot without title"
      ]
     },
     "metadata": {},
     "output_type": "display_data"
    }
   ],
   "source": [
    "\n",
    "#######################================Plot the pH data by month============##########\n",
    "\n",
    "boxplot(DailypH_1$pH~DailypH_1$Month,xlab=\"Month Jan=1, Feb=2...etc.\",ylab=\"pH\")\n",
    "\n"
   ]
  },
  {
   "cell_type": "markdown",
   "metadata": {},
   "source": [
    "Question: Where does the water go when it falls on the hillslopes of a drainage basin? Water will drain downward into the soil and into the river\n",
    "\n",
    "Question: What do you think may happen when water runs off the burned landscape into a river? It causes debris flows, landslides, and leaches contaminated water into the river\n",
    "##***Facilitator Note: The River flowed from the fire area to this site…***Add more explanation\n",
    "\n",
    "Discuss: What is ph?\n",
    "\n",
    "Question: What is the meaning of pH? What values are more acidic and what values are more basic? Why would this matter in a river setting?\n",
    "\n",
    "Discuss: Why is this important for our understanding of the river health? ***Add facilitator notes, do not have students go to the website to answer. pH is an important indicator of river health. While young fish and insect larvae are sensitive to a low pH (acid), extreme values on either end of the scale can be lethal to most organisms."
   ]
  },
  {
   "cell_type": "markdown",
   "metadata": {},
   "source": [
    "## What is a Drainage Basin"
   ]
  },
  {
   "cell_type": "markdown",
   "metadata": {},
   "source": [
    "Question: Where does the water go when it falls on the hillslopes of a drainage basin? Water will drain downward into the soil and into the river\n",
    "\n",
    "Question: What do you think may happen when water runs off the burned landscape into a river? It causes debris flows, landslides, and leaches contaminated water into the river"
   ]
  },
  {
   "cell_type": "markdown",
   "metadata": {},
   "source": [
    "![Image of Drainage Basin](https://bit.ly/2L2PV1t)"
   ]
  },
  {
   "cell_type": "markdown",
   "metadata": {},
   "source": [
    "## Classify the pH data"
   ]
  },
  {
   "cell_type": "code",
   "execution_count": 7,
   "metadata": {
    "collapsed": true
   },
   "outputs": [],
   "source": [
    "#######################================Classify the pH data============##########\n",
    "#Here we are going to categorize our dates as pre-fire and post-fire\n",
    "#What does it mean to categorize in this way?\n",
    "DailypH_1$prepost<-NA\n",
    "DailypH_1$prepost[DailypH_1$Date < \"2017-09-30\"]<-\"preFire\" #dates before Sept. 30, 2017 are 0 for pre\n",
    "DailypH_1$prepost[DailypH_1$Date > \"2017-09-30\"]<-\"postFire\" #dates after Sept. 30, 2017 are 1 for post"
   ]
  },
  {
   "cell_type": "markdown",
   "metadata": {},
   "source": [
    "## Plot pre-and-post fire pH"
   ]
  },
  {
   "cell_type": "code",
   "execution_count": 9,
   "metadata": {
    "collapsed": false
   },
   "outputs": [
    {
     "data": {
      "image/png": "[encoded data removed]",
      "text/plain": [
       "Plot with title \"pH Acidity pre-post Fire\""
      ]
     },
     "metadata": {},
     "output_type": "display_data"
    }
   ],
   "source": [
    "\n",
    "#############################Color the box plot by pre-post fire and combine by month\n",
    "\n",
    "boxplot(pH~Month, data = DailypH_1,boxwex = 0.25,at = 1:12 - 0.2,subset = prepost == \"preFire\", col = \"yellow\", main = \"pH Acidity pre-post Fire\",xlab= \"Month\",ylab = \"pH Acidity\",ylim = c(7, ceiling( max(DailypH_1$pH)) + 0.1), yaxs= \"i\")\n",
    "\n",
    "boxplot(pH~Month,data = DailypH_1,boxwex  = 0.25, at = c(1:7,10:12) + 0.2,subset  = prepost == \"postFire\",col = \"orange\", add = TRUE)\n",
    "\n",
    "legend(\"topright\",legend = c( \"preFire\", \"postFire\" ), fill = c( \"yellow\", \"orange\" ) )\n",
    "############################"
   ]
  },
  {
   "cell_type": "markdown",
   "metadata": {},
   "source": [
    "## Questions to Discuss"
   ]
  },
  {
   "cell_type": "markdown",
   "metadata": {},
   "source": [
    "\n",
    "############=======Questions============##########\n",
    "\n",
    "Question: How does the pH differ pre and post Fire in October and November?\n",
    "Question: How does the pH differ pre and post Fire in December, January, February?\n",
    "Speculate on some reasons why\n",
    "Question: How does the pH vary across the year? Why would it be higher in summer and lower in winter?\n",
    "\n",
    "Facilitator's Note: Have students discuss and brainstorm ideas to why the ph may vary. \n",
    "pH is higher in the summer for a variety of reasons. 1) There is no rainfall in summer. Rainfall is typically more acidic, so in the summer there is no longer an input of acidic water. 2) aquatic plants and algae bloom during this time and they consume a lot of co2. Because they consume co2 this makes the water more basic. 3) During low flows (summer time), water has more of an opportunity to interact with riverbed sediments and minerals which oftentimes helps to neutralize water. \n",
    "\n",
    "OPTION 1 - pH may naturally vary over the years. Biological factors such as bacteria producting co2, or aquatic vegetation consuming co2 directly impacts pH. Maybe the plants and bacteria have changed?\n",
    "How would we test this?\n",
    "Might look at pH variability over a few years. Test theory by looking at code below.\n",
    "\n",
    "OPTION 2 - pH may be impacted by discharge events. This means it might be impacted by rainfall.\n",
    "How would we test this?\n",
    "Might look at pH variability across discharge events. Test theory by looking at code below.\n",
    "\n",
    "OPTION 3 - pH may be impacted by runoff in our drainage basin, the Russian River Watershed. This means it might be impacted by rainfall, but also by the rainfall coming into contact with the burn areas.\n",
    "How would we test this?\n",
    "Might look at pH variability across discharge events. Test theory by looking at code below."
   ]
  },
  {
   "cell_type": "code",
   "execution_count": 8,
   "metadata": {
    "collapsed": false
   },
   "outputs": [
    {
     "data": {
      "image/png": "[encoded data removed]",
      "text/plain": [
       "plot without title"
      ]
     },
     "metadata": {},
     "output_type": "display_data"
    }
   ],
   "source": [
    "\n",
    "###################============Plot time series of pH============##########\n",
    "plot(DailypH_1$Date,DailypH_1$pH,xlab=\"Date\",ylab=\"pH\",pch=19,col=\"red\")\n",
    "lines(DailypH_1$Date,DailypH_1$pH)"
   ]
  },
  {
   "cell_type": "code",
   "execution_count": 9,
   "metadata": {
    "collapsed": false
   },
   "outputs": [
    {
     "data": {
      "image/png": "[encoded data removed]",
      "text/plain": [
       "plot without title"
      ]
     },
     "metadata": {},
     "output_type": "display_data"
    }
   ],
   "source": [
    "#Zoom into one year pH\n",
    "plot(DailypH_1$Date[4500:5374],DailypH_1$pH[4500:5374],xlab=\"Date\",ylab=\"pH\",pch=19,col=\"red\")\n",
    "lines(DailypH_1$Date[4500:5374],DailypH_1$pH[4500:5374])"
   ]
  },
  {
   "cell_type": "markdown",
   "metadata": {},
   "source": [
    "## Is pH affected by rain?"
   ]
  },
  {
   "cell_type": "markdown",
   "metadata": {},
   "source": [
    "OPTION 2 - pH is affected by rain\n",
    "How would we test this? What type of sensors?\n",
    "Facilitator introduces the idea of discharge. This refers to the volume of water in the river and is often used as a proxy for rainfaill. This is a parameter that our sensors measure so we can test it. What are the units for discharge? Use this website to help you http://www.geography.learnontheinternet.co.uk/topics/discharge.html **Write out as won't have time to look it up."
   ]
  },
  {
   "cell_type": "markdown",
   "metadata": {},
   "source": [
    "## Fetch Daily Discharge to test the hypothesis about rain"
   ]
  },
  {
   "cell_type": "code",
   "execution_count": 10,
   "metadata": {
    "collapsed": true
   },
   "outputs": [],
   "source": [
    "#####Fetch daily discharge data\n",
    "DailyQ_1 <- getFlowDaily(siteID,\"00060\",startDate,endDate,convert=TRUE,interactive=FALSE,\"00003\")\n",
    "DailypH<-merge(DailypH_1,DailyQ_1[,c(1,2)],by=\"Date\") #This merges the data together\n",
    "\n",
    "# Here we are going to categorize our data as low flow verus storm periods\n",
    "DailypH$storm<-NA\n",
    "DailypH$storm[DailypH$Q < 20]<-\"lowFlow\" #values of discharge below 12 m3/s are low flow\n",
    "DailypH$storm[DailypH$Q > 20]<-\"storm\" #values of discharge above 12 m3/s are storms\n",
    "\n",
    "\n",
    "#Here we are going to categorize our dates as pre-fire and post-fire again. Since we only did this for pH we have to do it again for the discharge\n",
    "#What does it mean to categorize in this way?\n",
    "DailypH$prepost<-NA\n",
    "DailypH$prepost[DailypH$Date < \"2017-09-30\"]<-\"preFire\" #dates before Sept. 30, 2017 are 0 for pre\n",
    "DailypH$prepost[DailypH$Date > \"2017-09-30\"]<-\"postFire\" #dates after Sept. 30, 2017 are 1 for post\n"
   ]
  },
  {
   "cell_type": "markdown",
   "metadata": {},
   "source": [
    "## Plot Discharge versus pH"
   ]
  },
  {
   "cell_type": "code",
   "execution_count": 11,
   "metadata": {
    "collapsed": false
   },
   "outputs": [
    {
     "data": {
      "image/png": "[encoded data removed]",
      "text/plain": [
       "plot without title"
      ]
     },
     "metadata": {},
     "output_type": "display_data"
    }
   ],
   "source": [
    "plot(DailypH$Q[DailypH$prepost==\"preFire\"],DailypH$pH[DailypH$prepost==\"preFire\"],col=\"black\",pch=19,log=\"xy\",ylab=\"pH acidity\",xlab=\"Discharge m3/s\")\n",
    "points(DailypH$Q[DailypH$prepost==\"postFire\"],DailypH$pH[DailypH$prepost==\"postFire\"],col=\"red\",pch=19,cex=2)\n",
    "legend('topright',legend=c(\"preFire\", \"postFire\"), pch=19,col=c(\"black\", \"red\"), lty=1:2, cex=0.8)\n"
   ]
  },
  {
   "cell_type": "markdown",
   "metadata": {},
   "source": [
    "## Questions"
   ]
  },
  {
   "cell_type": "markdown",
   "metadata": {},
   "source": [
    "############=======Questions============##########\n",
    "\n",
    "Question: Why would pH would be more \"basic\" post-Fire during storm events\n",
    "\n",
    "Question: On average, during low-flow periods what are the differences in acidity pre versus post-fire?\n",
    "\n",
    "Question: What is the pH or acidity of clean rainfall? ***Write out facilitators notes as there won't be time to look it up. https://www3.epa.gov/acidrain/education/site_students/phscale.html\n",
    "\n",
    "Question: What is the main mineral in ash? **Write out facilitator's notes as there won't be time to look it up. https://en.wikipedia.org/wiki/Wood_ash"
   ]
  },
  {
   "cell_type": "markdown",
   "metadata": {},
   "source": [
    "## Plot Boxplots of pre-and-post fire pH with Discharge"
   ]
  },
  {
   "cell_type": "code",
   "execution_count": 12,
   "metadata": {
    "collapsed": false
   },
   "outputs": [
    {
     "data": {
      "image/png": "[encoded data removed]",
      "text/plain": [
       "Plot with title \"pH pre-post Fire\""
      ]
     },
     "metadata": {},
     "output_type": "display_data"
    }
   ],
   "source": [
    "#############################Color the pH box plot by pre-post fire and combine by storm or low-flow========\n",
    "\n",
    "# This is how you can control the order of what appears in the boxplot\n",
    "DailypH$prepost<-factor(DailypH$prepost, levels=c(\"preFire\", \"postFire\"))\n",
    "\n",
    "boxplot(pH~storm*prepost, data = DailypH,col=(c(\"gold\",\"gold\",\"darkgreen\",\"darkgreen\")), main = \"pH pre-post Fire\",xlab= \"pH by storm and pre-post Fire\",ylab = \"pH acidity\",ylim = c(7, ceiling( max(DailypH$pH)) + 0.1), yaxs= \"i\",log=\"y\")\n",
    "\n",
    "legend(\"topright\",legend = c(\"preFire\" , \"postFire\"), fill = c( \"gold\" , \"darkgreen\") )"
   ]
  },
  {
   "cell_type": "markdown",
   "metadata": {},
   "source": [
    "## Questions"
   ]
  },
  {
   "cell_type": "markdown",
   "metadata": {},
   "source": [
    "Question: Does calcium carbonate make the water more acidic or more basic? Calcim carbonate reacts with acids and make water more basic via the reaction: it reacts with acids, releasing carbon dioxide:\n",
    " CaCO3(s) + 2H+(aq) → Ca2+(aq) + CO2(g) + H2O (l)\n",
    "\n",
    "Question: On average, is discharge this year lower or higher on average for the storms after the fire? Lower. So this means there is a decreased input of acidic rainfall entering the river. \n",
    "\n",
    "Question: How is the ash leachate (i.e. calcium carbonate rich water) impacting pH when we have a dry year with a decreased number of storms?\n"
   ]
  },
  {
   "cell_type": "markdown",
   "metadata": {},
   "source": [
    "## Additional Hypothesis Development"
   ]
  },
  {
   "cell_type": "markdown",
   "metadata": {},
   "source": [
    "############=======Hypothesis development============##########\n",
    "\n",
    "Question: How can we explain pH using both our knowledge about fire-ash and rainfall?\n",
    "\n",
    "Hypothesis 1: Becuase we have had fewer storms, a decreased amount of \"acidic\" rainfall has entered the system.\n",
    "Question 1: How do we test this?\n",
    "Method 1: What should we measure to confirm or deny this?\n",
    "\n",
    "\n",
    "Hypothesis 2: Because we had the fire, any rainfall falling on the burned zones causes more ash (i.e. calcium carbonate) to runoff into the river. \n",
    "Question 2: How do we test this?\n",
    "Method 2: What should we measure to confirm or deny this?\n"
   ]
  },
  {
   "cell_type": "code",
   "execution_count": null,
   "metadata": {
    "collapsed": true
   },
   "outputs": [],
   "source": []
  }
 ],
 "metadata": {
  "anaconda-cloud": {},
  "kernelspec": {
   "display_name": "R 3.4",
   "language": "R",
   "name": "ir34"
  },
  "language_info": {
   "codemirror_mode": "r",
   "file_extension": ".r",
   "mimetype": "text/x-r-source",
   "name": "R",
   "pygments_lexer": "r",
   "version": "3.4.1"
  }
 },
 "nbformat": 4,
 "nbformat_minor": 2
}
